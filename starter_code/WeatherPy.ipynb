{
 "cells": [
  {
   "cell_type": "markdown",
   "metadata": {},
   "source": [
    "# WeatherPy\n",
    "----\n",
    "\n",
    "### Analysis\n",
    "* As expected, the weather becomes significantly warmer as one approaches the equator (0 Deg. Latitude). More interestingly, however, is the fact that the southern hemisphere tends to be warmer this time of year than the northern hemisphere. This may be due to the tilt of the earth.\n",
    "* There is no strong relationship between latitude and cloudiness. However, it is interesting to see that a strong band of cities sits at 0, 80, and 100% cloudiness.\n",
    "* There is no strong relationship between latitude and wind speed. However, in northern hemispheres there is a flurry of cities with over 20 mph of wind.\n",
    "\n",
    "---\n",
    "\n",
    "#### Note\n",
    "* Instructions have been included for each segment. You do not have to follow them exactly, but they are included to help you think through the steps."
   ]
  },
  {
   "cell_type": "code",
   "execution_count": null,
   "metadata": {
    "scrolled": true
   },
   "outputs": [],
   "source": [
    "# Dependencies and Setup\n",
    "import matplotlib.pyplot as plt\n",
    "import pandas as pd\n",
    "import numpy as np\n",
    "import requests\n",
    "import time\n",
    "\n",
    "# Import API key\n",
    "from api_keys import api_key\n",
    "\n",
    "# Incorporated citipy to determine city based on latitude and longitude\n",
    "from citipy import citipy\n",
    "\n",
    "# Output File (CSV)\n",
    "output_data_file = \"output_data/cities.csv\"\n",
    "\n",
    "# Range of latitudes and longitudes\n",
    "lat_range = (-90, 90)\n",
    "lng_range = (-180, 180)"
   ]
  },
  {
   "cell_type": "markdown",
   "metadata": {},
   "source": [
    "## Generate Cities List"
   ]
  },
  {
   "cell_type": "code",
   "execution_count": null,
   "metadata": {},
   "outputs": [],
   "source": [
    "# List for holding lat_lngs and cities\n",
    "lat_lngs = []\n",
    "cities = []\n",
    "\n",
    "# Create a set of random lat and lng combinations\n",
    "lats = np.random.uniform(low=-90.000, high=90.000, size=1500)\n",
    "lngs = np.random.uniform(low=-180.000, high=180.000, size=1500)\n",
    "lat_lngs = zip(lats, lngs)\n",
    "\n",
    "# Identify nearest city for each lat, lng combination\n",
    "for lat_lng in lat_lngs:\n",
    "    city = citipy.nearest_city(lat_lng[0], lat_lng[1]).city_name\n",
    "    \n",
    "    # If the city is unique, then add it to a our cities list\n",
    "    if city not in cities:\n",
    "        cities.append(city)\n",
    "\n",
    "# Print the city count to confirm sufficient count\n",
    "len(cities)"
   ]
  },
  {
   "cell_type": "markdown",
   "metadata": {},
   "source": [
    "### Perform API Calls\n",
    "* Perform a weather check on each city using a series of successive API calls.\n",
    "* Include a print log of each city as it'sbeing processed (with the city number and city name).\n"
   ]
  },
  {
   "cell_type": "code",
   "execution_count": null,
   "metadata": {},
   "outputs": [],
   "source": [
    "api_key = \"873c4793ef942206a37f225dba43a338\"\n",
    "for index,row in df_countries.iterrows():\n",
    "    city_name = row['Cities']\n",
    "    Country_id = row['Country']\n",
    "    \n",
    "    \n",
    "    #api call for all Cities \n",
    "    api_url = \"http://api.openweathermap.org/data/2.5/forecast\" \\\n",
    "    \"?q={},{}&units=IMPERIAL&mode=json&APPID={}\".format(city_name,Country_id,api_key)\n",
    "    \n",
    "    \n",
    "    country_info = requests.get(api_url).json()\n",
    "    \n",
    "    \n",
    "    print(api_url)\n",
    "    \n",
    "    \n",
    "    try:\n",
    "        df_countries.set_value(index,'Latitude',country_info['city']['coord']['lat'])\n",
    "        df_countries.set_value(index,'Longitude',country_info['city']['coord']['lon'])\n",
    "        df_countries.set_value(index,'Temperature (F)',country_info['list'][0]['main']['temp'])\n",
    "        df_countries.set_value(index,'Humidity (%)',country_info['list'][0]['main']['humidity'])\n",
    "        df_countries.set_value(index,'Cloudiness (%)',country_info['list'][0]['clouds']['all'])\n",
    "        df_countries.set_value(index,'Wind Speed (mph)',country_info['list'][0]['wind']['speed'])\n",
    "        \n",
    "    except KeyError:\n",
    "        df_countries.set_value(index,'Latitude',np.nan)\n",
    "        df_countries.set_value(index,'Longitude',np.nan)\n",
    "        df_countries.set_value(index,'Temperature (F)',np.nan)\n",
    "        df_countries.set_value(index,'Humidity (%)',np.nan)\n",
    "        df_countries.set_value(index,'Cloudiness (%)',np.nan)\n",
    "        df_countries.set_value(index,'Wind Speed (mph)',np.nan)\n",
    "        \n",
    "        print('Missing weather information...skip')"
   ]
  },
  {
   "cell_type": "markdown",
   "metadata": {},
   "source": [
    "### Convert Raw Data to DataFrame\n",
    "* Export the city data into a .csv.\n",
    "* Display the DataFrame"
   ]
  },
  {
   "cell_type": "code",
   "execution_count": null,
   "metadata": {},
   "outputs": [],
   "source": [
    "df_countries['Latitude'] = pd.to_numeric(df_countries['Latitude'])\n",
    "df_countries['Longitude'] = pd.to_numeric(df_countries['Longitude'])\n",
    "df_countries['Temperature (F)'] = pd.to_numeric(df_countries['Temperature (F)'])\n",
    "df_countries['Humidity (%)'] = pd.to_numeric(df_countries['Humidity (%)'])\n",
    "df_countries['Cloudiness (%)'] = pd.to_numeric(df_countries['Cloudiness (%)'])\n",
    "df_countries['Wind Speed (mph)'] = pd.to_numeric(df_countries['Wind Speed (mph)'])\n",
    "\n",
    "df_countries.head()\n"
   ]
  },
  {
   "cell_type": "code",
   "execution_count": null,
   "metadata": {},
   "outputs": [],
   "source": [
    "# save to csv file\n",
    "WeatherPy_df.to_csv(\"WeatherPy.csv\", encoding='utf-8', index=False)\n",
    "\n",
    "# Display the city weather data frame\n",
    "WeatherPy_df.head(10)"
   ]
  },
  {
   "cell_type": "markdown",
   "metadata": {},
   "source": [
    "### Plotting the Data\n",
    "* Use proper labeling of the plots using plot titles (including date of analysis) and axes labels.\n",
    "* Save the plotted figures as .pngs."
   ]
  },
  {
   "cell_type": "markdown",
   "metadata": {},
   "source": [
    "#### Latitude vs. Temperature Plot"
   ]
  },
  {
   "cell_type": "code",
   "execution_count": null,
   "metadata": {},
   "outputs": [],
   "source": [
    "plt.figure(figsize=(10,8))\n",
    "sns.set()\n",
    "plt.scatter(WeatherPy_df[\"Lat\"], WeatherPy_df[\"Max Temp\"], color='r', alpha=0.5)\n",
    "plt.xlabel('Latitude')\n",
    "plt.ylabel('Max Temperature (F)')\n",
    "plt.title(f'City Latitude vs Max Temperature ({datetime.now().date()})')\n",
    "plt.savefig(\"LatVsTemp.png\")\n",
    "plt.show()"
   ]
  },
  {
   "cell_type": "markdown",
   "metadata": {},
   "source": [
    "#### Latitude vs. Humidity Plot"
   ]
  },
  {
   "cell_type": "code",
   "execution_count": null,
   "metadata": {},
   "outputs": [],
   "source": [
    "plt.figure(figsize=(10,6))\n",
    "sns.set()\n",
    "plt.scatter(WeatherPy_df[\"Lat\"], WeatherPy_df[\"Humidity\"], color='blue', alpha=0.5)\n",
    "plt.ylim(10,120)\n",
    "plt.xlabel('Latitude')\n",
    "plt.ylabel('Humidity (%)')\n",
    "plt.title(f'City Latitude vs Humidity ({datetime.now().date()})')\n",
    "plt.savefig(\"LatVsHumidity.png\")\n",
    "plt.show()"
   ]
  },
  {
   "cell_type": "markdown",
   "metadata": {},
   "source": [
    "#### Latitude vs. Cloudiness Plot"
   ]
  },
  {
   "cell_type": "code",
   "execution_count": null,
   "metadata": {},
   "outputs": [],
   "source": [
    "plt.figure(figsize=(8,6))\n",
    "sns.set()\n",
    "plt.scatter(WeatherPy_df[\"Lat\"], WeatherPy_df[\"Cloudiness\"], color='green', alpha=0.5)\n",
    "\n",
    "plt.ylim(-20,(WeatherPy_df[\"Cloudiness\"].max()+10))\n",
    "plt.xlabel('Latitude')\n",
    "plt.ylabel('Cloudiness (%)')\n",
    "plt.title(f'City Latitude vs Cloudiness ({datetime.now().date()})')\n",
    "plt.savefig(\"LatVsCloudiness.png\")\n",
    "plt.show()"
   ]
  },
  {
   "cell_type": "markdown",
   "metadata": {},
   "source": [
    "#### Latitude vs. Wind Speed Plot"
   ]
  },
  {
   "cell_type": "code",
   "execution_count": null,
   "metadata": {},
   "outputs": [],
   "source": [
    "plt.figure(figsize=(8,6))\n",
    "sns.set()\n",
    "plt.scatter(WeatherPy_df[\"Lat\"], WeatherPy_df[\"Wind Speed\"], color='orange', alpha=0.5)\n",
    "\n",
    "plt.ylim((WeatherPy_df[\"Wind Speed\"].min()-5),(WeatherPy_df[\"Wind Speed\"].max()+5))\n",
    "plt.xlabel('Latitude')\n",
    "plt.ylabel('Wind Speed (mph)')\n",
    "plt.title(f'City Latitude vs Wind Speed ({datetime.now().date()})')\n",
    "plt.savefig(\"LatVsWind.png\")\n",
    "plt.show()"
   ]
  },
  {
   "cell_type": "markdown",
   "metadata": {},
   "source": []
  },
  {
   "cell_type": "code",
   "execution_count": null,
   "metadata": {},
   "outputs": [],
   "source": []
  }
 ],
 "metadata": {
  "anaconda-cloud": {},
  "kernel_info": {
   "name": "python3"
  },
  "kernelspec": {
   "display_name": "Python 3",
   "language": "python",
   "name": "python3"
  },
  "language_info": {
   "codemirror_mode": {
    "name": "ipython",
    "version": 3
   },
   "file_extension": ".py",
   "mimetype": "text/x-python",
   "name": "python",
   "nbconvert_exporter": "python",
   "pygments_lexer": "ipython3",
   "version": "3.7.1"
  },
  "nteract": {
   "version": "0.12.3"
  }
 },
 "nbformat": 4,
 "nbformat_minor": 2
}
